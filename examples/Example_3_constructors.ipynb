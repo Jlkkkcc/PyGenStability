{
 "cells": [
  {
   "cell_type": "markdown",
   "metadata": {},
   "source": [
    "# Example 3: Trying various constructor options\n",
    "\n",
    "Each constructor encodes a different form of dynamics on the graph. Here, we exemplify each constructor and their outputs."
   ]
  },
  {
   "cell_type": "code",
   "execution_count": null,
   "metadata": {},
   "outputs": [],
   "source": [
    "# imports\n",
    "\n",
    "from pygenstability import run, plotting\n",
    "import pickle\n",
    "import networkx as nx"
   ]
  },
  {
   "cell_type": "code",
   "execution_count": null,
   "metadata": {},
   "outputs": [],
   "source": [
    "# creating and saving SBM\n",
    "\n",
    "from create_graph import create_sbm\n",
    "create_sbm()\n",
    "with open(\"sbm_graph.pkl\", \"rb\") as pickle_file:\n",
    "    graph = pickle.load(pickle_file)"
   ]
  },
  {
   "cell_type": "markdown",
   "metadata": {},
   "source": [
    "## Linearised matrix exponential"
   ]
  },
  {
   "cell_type": "code",
   "execution_count": null,
   "metadata": {},
   "outputs": [],
   "source": [
    "all_results = run(graph, min_time=-1, max_time = 1, constructor='linearized')\n",
    "plotting.plot_scan(all_results,use_plotly=True)"
   ]
  },
  {
   "cell_type": "markdown",
   "metadata": {},
   "source": [
    "## Continuous time - combinatorial Laplacian"
   ]
  },
  {
   "cell_type": "code",
   "execution_count": null,
   "metadata": {},
   "outputs": [],
   "source": [
    "all_results = run(graph, min_time=-1, max_time = 1, constructor='continuous_combinatorial')\n",
    "plotting.plot_scan(all_results,use_plotly=True)\n"
   ]
  },
  {
   "cell_type": "markdown",
   "metadata": {},
   "source": [
    "## Continuous time - normalized Laplacian"
   ]
  },
  {
   "cell_type": "code",
   "execution_count": null,
   "metadata": {},
   "outputs": [],
   "source": [
    "all_results = run(graph, min_time=-1, max_time = 1, constructor='continuous_normalized')\n",
    "plotting.plot_scan(all_results,use_plotly=True)\n"
   ]
  }
 ],
 "metadata": {
  "kernelspec": {
   "display_name": "Python 3",
   "language": "python",
   "name": "python3"
  },
  "language_info": {
   "codemirror_mode": {
    "name": "ipython",
    "version": 3
   },
   "file_extension": ".py",
   "mimetype": "text/x-python",
   "name": "python",
   "nbconvert_exporter": "python",
   "pygments_lexer": "ipython3",
   "version": "3.7.7"
  }
 },
 "nbformat": 4,
 "nbformat_minor": 4
}
