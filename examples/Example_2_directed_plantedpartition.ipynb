{
 "cells": [
  {
   "cell_type": "markdown",
   "metadata": {},
   "source": [
    "# Example 2: Markov Stability applied to directed graph"
   ]
  },
  {
   "cell_type": "code",
   "execution_count": null,
   "metadata": {},
   "outputs": [],
   "source": [
    "# imports\n",
    "\n",
    "from pygenstability import run, plotting, constructors\n",
    "import pickle\n",
    "import networkx as nx"
   ]
  },
  {
   "cell_type": "code",
   "execution_count": null,
   "metadata": {},
   "outputs": [],
   "source": [
    "# creating directed partitioned graph\n",
    "\n",
    "g = nx.planted_partition_graph(4, 20, 0.3, 0.01, seed=42, directed=True)\n",
    "graph = nx.to_scipy_sparse_matrix(g)"
   ]
  },
  {
   "cell_type": "code",
   "execution_count": null,
   "metadata": {},
   "outputs": [],
   "source": [
    "# defining the constructor externally\n",
    "\n",
    "directed_constructor = constructors.load_constructor('directed',graph,alpha=0.85)"
   ]
  },
  {
   "cell_type": "code",
   "execution_count": null,
   "metadata": {},
   "outputs": [],
   "source": [
    "# scan markov time for communities\n",
    "\n",
    "all_results = run(graph, min_time=-1, max_time = 1, constructor=directed_constructor)"
   ]
  },
  {
   "cell_type": "code",
   "execution_count": null,
   "metadata": {},
   "outputs": [],
   "source": [
    "# plot interactive\n",
    "\n",
    "plotting.plot_scan(all_results,use_plotly=True)"
   ]
  },
  {
   "cell_type": "code",
   "execution_count": null,
   "metadata": {},
   "outputs": [],
   "source": [
    "# plot partition at time index t\n",
    "\n",
    "pos = nx.spring_layout(g, weight=None, scale=1)\n",
    "for u in g:\n",
    "    g.nodes[u][\"pos\"] = pos[u]\n",
    "\n",
    "t = 12;\n",
    "plotting.plot_single_community(g, all_results, t)\n"
   ]
  },
  {
   "cell_type": "code",
   "execution_count": null,
   "metadata": {},
   "outputs": [],
   "source": [
    "# plotting partitions at all times in './communities' folder\n",
    "\n",
    "plotting.plot_communities(g, all_results)"
   ]
  }
 ],
 "metadata": {
  "kernelspec": {
   "display_name": "Python 3",
   "language": "python",
   "name": "python3"
  },
  "language_info": {
   "codemirror_mode": {
    "name": "ipython",
    "version": 3
   },
   "file_extension": ".py",
   "mimetype": "text/x-python",
   "name": "python",
   "nbconvert_exporter": "python",
   "pygments_lexer": "ipython3",
   "version": "3.7.7"
  }
 },
 "nbformat": 4,
 "nbformat_minor": 4
}
