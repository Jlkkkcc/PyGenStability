{
 "cells": [
  {
   "cell_type": "markdown",
   "metadata": {},
   "source": [
    "# Example 1: Markov Stability applied to undirected SBM"
   ]
  },
  {
   "cell_type": "code",
   "execution_count": null,
   "metadata": {},
   "outputs": [],
   "source": [
    "import pickle\n",
    "import networkx as nx\n",
    "\n",
    "from pygenstability import run, plotting\n",
    "\n",
    "import create_graph"
   ]
  },
  {
   "cell_type": "code",
   "execution_count": null,
   "metadata": {},
   "outputs": [],
   "source": [
    "# creating and saving SBM\n",
    "\n",
    "create_graph.create_sbm()\n",
    "with open(\"sbm_graph.pkl\", \"rb\") as pickle_file:\n",
    "    graph = pickle.load(pickle_file)"
   ]
  },
  {
   "cell_type": "code",
   "execution_count": null,
   "metadata": {},
   "outputs": [],
   "source": [
    "# run Markov Stability\n",
    "all_results = run(graph, min_time=-1, max_time = 1, constructor='continuous_normalized')"
   ]
  },
  {
   "cell_type": "code",
   "execution_count": null,
   "metadata": {},
   "outputs": [],
   "source": [
    "# plot the results using plotly\n",
    "plotting.plot_scan(all_results,use_plotly=True)"
   ]
  },
  {
   "cell_type": "code",
   "execution_count": null,
   "metadata": {},
   "outputs": [],
   "source": [
    "# plot the results matplotlib\n",
    "plotting.plot_scan(all_results,use_plotly=False)"
   ]
  },
  {
   "cell_type": "code",
   "execution_count": null,
   "metadata": {},
   "outputs": [],
   "source": [
    "# convert into networkx and plot partition at time index t\n",
    "\n",
    "nx_graph = nx.Graph(graph)\n",
    "pos = nx.spring_layout(nx_graph, weight=None, scale=1)\n",
    "for u in nx_graph:\n",
    "    nx_graph.nodes[u][\"pos\"] = pos[u]\n",
    "\n",
    "plotting.plot_single_community(nx_graph, all_results, t=12)"
   ]
  },
  {
   "cell_type": "code",
   "execution_count": null,
   "metadata": {},
   "outputs": [],
   "source": [
    "# plotting partitions at all times in './communities' folder\n",
    "\n",
    "plotting.plot_communities(g, all_results)"
   ]
  }
 ],
 "metadata": {
  "kernelspec": {
   "display_name": "Python 3",
   "language": "python",
   "name": "python3"
  },
  "language_info": {
   "codemirror_mode": {
    "name": "ipython",
    "version": 3
   },
   "file_extension": ".py",
   "mimetype": "text/x-python",
   "name": "python",
   "nbconvert_exporter": "python",
   "pygments_lexer": "ipython3",
   "version": "3.8.7"
  }
 },
 "nbformat": 4,
 "nbformat_minor": 4
}
