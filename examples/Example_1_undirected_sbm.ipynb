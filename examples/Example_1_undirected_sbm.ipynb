{
 "cells": [
  {
   "cell_type": "markdown",
   "metadata": {},
   "source": [
    "# Example 1: Markov Stability applied to undirected SBM"
   ]
  },
  {
   "cell_type": "code",
   "execution_count": null,
   "metadata": {},
   "outputs": [],
   "source": [
    "# imports\n",
    "\n",
    "from pygenstability import run, plotting\n",
    "import pickle\n",
    "import networkx as nx"
   ]
  },
  {
   "cell_type": "code",
   "execution_count": null,
   "metadata": {},
   "outputs": [],
   "source": [
    "# creating and saving SBM\n",
    "\n",
    "from create_graph import create_sbm\n",
    "create_sbm()\n",
    "with open(\"sbm_graph.pkl\", \"rb\") as pickle_file:\n",
    "    graph = pickle.load(pickle_file)"
   ]
  },
  {
   "cell_type": "code",
   "execution_count": null,
   "metadata": {},
   "outputs": [],
   "source": [
    "all_results = run(graph, min_time=-1, max_time = 1, constructor='continuous_normalized')\n"
   ]
  },
  {
   "cell_type": "code",
   "execution_count": null,
   "metadata": {},
   "outputs": [],
   "source": [
    "plotting.plot_scan(all_results,use_plotly=True)"
   ]
  },
  {
   "cell_type": "code",
   "execution_count": null,
   "metadata": {},
   "outputs": [],
   "source": [
    "# convert into networkx and plot partition at time index t\n",
    "\n",
    "g = nx.Graph(graph)\n",
    "\n",
    "pos = nx.spring_layout(g, weight=None, scale=1)\n",
    "for u in g:\n",
    "    g.nodes[u][\"pos\"] = pos[u]\n",
    "\n",
    "t = 12;\n",
    "plotting.plot_single_community(g, all_results, t)\n"
   ]
  },
  {
   "cell_type": "code",
   "execution_count": null,
   "metadata": {},
   "outputs": [],
   "source": [
    "# plotting partitions at all times in './communities' folder\n",
    "\n",
    "plotting.plot_communities(g, all_results)"
   ]
  }
 ],
 "metadata": {
  "kernelspec": {
   "display_name": "Python 3",
   "language": "python",
   "name": "python3"
  },
  "language_info": {
   "codemirror_mode": {
    "name": "ipython",
    "version": 3
   },
   "file_extension": ".py",
   "mimetype": "text/x-python",
   "name": "python",
   "nbconvert_exporter": "python",
   "pygments_lexer": "ipython3",
   "version": "3.7.7"
  }
 },
 "nbformat": 4,
 "nbformat_minor": 4
}
